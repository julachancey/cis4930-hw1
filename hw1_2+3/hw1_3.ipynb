{
 "cells": [
  {
   "cell_type": "code",
   "execution_count": 1,
   "id": "f4883096-5ff3-4bef-b7c7-ed5b8b0c8810",
   "metadata": {
    "tags": []
   },
   "outputs": [],
   "source": [
    "# Julia Chancey\n",
    "# Multimodal ML - hw 1 question 3\n",
    "# Classification"
   ]
  },
  {
   "cell_type": "code",
   "execution_count": 5,
   "id": "03d50a0a-6570-4855-9cf1-e780f90f1e98",
   "metadata": {
    "tags": []
   },
   "outputs": [],
   "source": [
    "# imports ordered alphabetically\n",
    "import pandas as pd\n",
    "from sklearn.model_selection import train_test_split\n",
    "from sklearn.linear_model import LogisticRegression\n",
    "from sklearn.svm import SVC\n",
    "from sklearn.naive_bayes import GaussianNB\n",
    "from sklearn.ensemble import RandomForestClassifier\n",
    "from sklearn.metrics import accuracy_score, precision_score, recall_score, f1_score, confusion_matrix"
   ]
  },
  {
   "cell_type": "code",
   "execution_count": 9,
   "id": "979739a3-f414-44a2-9bdf-e9ff2aea2993",
   "metadata": {
    "tags": []
   },
   "outputs": [],
   "source": [
    "# loading the dataset\n",
    "data = pd.read_csv('data.csv')"
   ]
  },
  {
   "cell_type": "code",
   "execution_count": 10,
   "id": "680e1d08-860f-42e4-a3e5-db22c4a38daf",
   "metadata": {
    "tags": []
   },
   "outputs": [],
   "source": [
    "# preprocessing the data\n",
    "X = data[['ASR_Error', 'Intent_Error', 'Duration', 'Gender']]\n",
    "y = data['Purchase']"
   ]
  },
  {
   "cell_type": "code",
   "execution_count": 11,
   "id": "72379d42-7f73-400f-9ecb-c14e0e118b16",
   "metadata": {
    "tags": []
   },
   "outputs": [],
   "source": [
    "# splitting the data into training and testing sets\n",
    "X_train, X_test, y_train, y_test = train_test_split(X, y, test_size=0.2, random_state=42)"
   ]
  },
  {
   "cell_type": "code",
   "execution_count": 12,
   "id": "23958c58-23e2-4dd3-85ae-b59bd0473391",
   "metadata": {
    "tags": []
   },
   "outputs": [],
   "source": [
    "# initializing the classifiers\n",
    "lr = LogisticRegression(random_state=42)\n",
    "svm = SVC(kernel='linear', random_state=42)\n",
    "nb = GaussianNB()\n",
    "rf = RandomForestClassifier(n_estimators=100, random_state=42)"
   ]
  },
  {
   "cell_type": "code",
   "execution_count": 13,
   "id": "17b902f0-89f0-4a30-922f-ca25c573ec9a",
   "metadata": {
    "tags": []
   },
   "outputs": [
    {
     "data": {
      "text/html": [
       "<style>#sk-container-id-1 {color: black;background-color: white;}#sk-container-id-1 pre{padding: 0;}#sk-container-id-1 div.sk-toggleable {background-color: white;}#sk-container-id-1 label.sk-toggleable__label {cursor: pointer;display: block;width: 100%;margin-bottom: 0;padding: 0.3em;box-sizing: border-box;text-align: center;}#sk-container-id-1 label.sk-toggleable__label-arrow:before {content: \"▸\";float: left;margin-right: 0.25em;color: #696969;}#sk-container-id-1 label.sk-toggleable__label-arrow:hover:before {color: black;}#sk-container-id-1 div.sk-estimator:hover label.sk-toggleable__label-arrow:before {color: black;}#sk-container-id-1 div.sk-toggleable__content {max-height: 0;max-width: 0;overflow: hidden;text-align: left;background-color: #f0f8ff;}#sk-container-id-1 div.sk-toggleable__content pre {margin: 0.2em;color: black;border-radius: 0.25em;background-color: #f0f8ff;}#sk-container-id-1 input.sk-toggleable__control:checked~div.sk-toggleable__content {max-height: 200px;max-width: 100%;overflow: auto;}#sk-container-id-1 input.sk-toggleable__control:checked~label.sk-toggleable__label-arrow:before {content: \"▾\";}#sk-container-id-1 div.sk-estimator input.sk-toggleable__control:checked~label.sk-toggleable__label {background-color: #d4ebff;}#sk-container-id-1 div.sk-label input.sk-toggleable__control:checked~label.sk-toggleable__label {background-color: #d4ebff;}#sk-container-id-1 input.sk-hidden--visually {border: 0;clip: rect(1px 1px 1px 1px);clip: rect(1px, 1px, 1px, 1px);height: 1px;margin: -1px;overflow: hidden;padding: 0;position: absolute;width: 1px;}#sk-container-id-1 div.sk-estimator {font-family: monospace;background-color: #f0f8ff;border: 1px dotted black;border-radius: 0.25em;box-sizing: border-box;margin-bottom: 0.5em;}#sk-container-id-1 div.sk-estimator:hover {background-color: #d4ebff;}#sk-container-id-1 div.sk-parallel-item::after {content: \"\";width: 100%;border-bottom: 1px solid gray;flex-grow: 1;}#sk-container-id-1 div.sk-label:hover label.sk-toggleable__label {background-color: #d4ebff;}#sk-container-id-1 div.sk-serial::before {content: \"\";position: absolute;border-left: 1px solid gray;box-sizing: border-box;top: 0;bottom: 0;left: 50%;z-index: 0;}#sk-container-id-1 div.sk-serial {display: flex;flex-direction: column;align-items: center;background-color: white;padding-right: 0.2em;padding-left: 0.2em;position: relative;}#sk-container-id-1 div.sk-item {position: relative;z-index: 1;}#sk-container-id-1 div.sk-parallel {display: flex;align-items: stretch;justify-content: center;background-color: white;position: relative;}#sk-container-id-1 div.sk-item::before, #sk-container-id-1 div.sk-parallel-item::before {content: \"\";position: absolute;border-left: 1px solid gray;box-sizing: border-box;top: 0;bottom: 0;left: 50%;z-index: -1;}#sk-container-id-1 div.sk-parallel-item {display: flex;flex-direction: column;z-index: 1;position: relative;background-color: white;}#sk-container-id-1 div.sk-parallel-item:first-child::after {align-self: flex-end;width: 50%;}#sk-container-id-1 div.sk-parallel-item:last-child::after {align-self: flex-start;width: 50%;}#sk-container-id-1 div.sk-parallel-item:only-child::after {width: 0;}#sk-container-id-1 div.sk-dashed-wrapped {border: 1px dashed gray;margin: 0 0.4em 0.5em 0.4em;box-sizing: border-box;padding-bottom: 0.4em;background-color: white;}#sk-container-id-1 div.sk-label label {font-family: monospace;font-weight: bold;display: inline-block;line-height: 1.2em;}#sk-container-id-1 div.sk-label-container {text-align: center;}#sk-container-id-1 div.sk-container {/* jupyter's `normalize.less` sets `[hidden] { display: none; }` but bootstrap.min.css set `[hidden] { display: none !important; }` so we also need the `!important` here to be able to override the default hidden behavior on the sphinx rendered scikit-learn.org. See: https://github.com/scikit-learn/scikit-learn/issues/21755 */display: inline-block !important;position: relative;}#sk-container-id-1 div.sk-text-repr-fallback {display: none;}</style><div id=\"sk-container-id-1\" class=\"sk-top-container\"><div class=\"sk-text-repr-fallback\"><pre>RandomForestClassifier(random_state=42)</pre><b>In a Jupyter environment, please rerun this cell to show the HTML representation or trust the notebook. <br />On GitHub, the HTML representation is unable to render, please try loading this page with nbviewer.org.</b></div><div class=\"sk-container\" hidden><div class=\"sk-item\"><div class=\"sk-estimator sk-toggleable\"><input class=\"sk-toggleable__control sk-hidden--visually\" id=\"sk-estimator-id-1\" type=\"checkbox\" checked><label for=\"sk-estimator-id-1\" class=\"sk-toggleable__label sk-toggleable__label-arrow\">RandomForestClassifier</label><div class=\"sk-toggleable__content\"><pre>RandomForestClassifier(random_state=42)</pre></div></div></div></div></div>"
      ],
      "text/plain": [
       "RandomForestClassifier(random_state=42)"
      ]
     },
     "execution_count": 13,
     "metadata": {},
     "output_type": "execute_result"
    }
   ],
   "source": [
    "# fitting the classifiers on the training data\n",
    "lr.fit(X_train, y_train)\n",
    "svm.fit(X_train, y_train)\n",
    "nb.fit(X_train, y_train)\n",
    "rf.fit(X_train, y_train)"
   ]
  },
  {
   "cell_type": "code",
   "execution_count": 14,
   "id": "cd0742b3-1db1-450f-b273-b11a0d6314f7",
   "metadata": {
    "tags": []
   },
   "outputs": [],
   "source": [
    "# making predictions on the testing data\n",
    "lr_pred = lr.predict(X_test)\n",
    "svm_pred = svm.predict(X_test)\n",
    "nb_pred = nb.predict(X_test)\n",
    "rf_pred = rf.predict(X_test)"
   ]
  },
  {
   "cell_type": "code",
   "execution_count": 15,
   "id": "c61334be-bb46-485b-9360-c1fbcb8032df",
   "metadata": {
    "tags": []
   },
   "outputs": [
    {
     "name": "stdout",
     "output_type": "stream",
     "text": [
      "Logistic Regression: \n",
      "[[10  0]\n",
      " [ 1  9]]\n",
      "Accuracy:  0.95\n",
      "Precision:  1.0\n",
      "Recall:  0.9\n",
      "F1-Score:  0.9473684210526316\n",
      "SVM: \n",
      "[[10  0]\n",
      " [ 1  9]]\n",
      "Accuracy:  0.95\n",
      "Precision:  1.0\n",
      "Recall:  0.9\n",
      "F1-Score:  0.9473684210526316\n",
      "Naive Bayes: \n",
      "[[10  0]\n",
      " [ 1  9]]\n",
      "Accuracy:  0.95\n",
      "Precision:  1.0\n",
      "Recall:  0.9\n",
      "F1-Score:  0.9473684210526316\n",
      "Random Forest: \n",
      "[[10  0]\n",
      " [ 1  9]]\n",
      "Accuracy:  0.95\n",
      "Precision:  1.0\n",
      "Recall:  0.9\n",
      "F1-Score:  0.9473684210526316\n"
     ]
    }
   ],
   "source": [
    "# evaluating the performance of the classifiers\n",
    "print(\"Logistic Regression: \")\n",
    "print(confusion_matrix(y_test, lr_pred))\n",
    "print(\"Accuracy: \", accuracy_score(y_test, lr_pred))\n",
    "print(\"Precision: \", precision_score(y_test, lr_pred))\n",
    "print(\"Recall: \", recall_score(y_test, lr_pred))\n",
    "print(\"F1-Score: \", f1_score(y_test, lr_pred))\n",
    "\n",
    "print(\"SVM: \")\n",
    "print(confusion_matrix(y_test, svm_pred))\n",
    "print(\"Accuracy: \", accuracy_score(y_test, svm_pred))\n",
    "print(\"Precision: \", precision_score(y_test, svm_pred))\n",
    "print(\"Recall: \", recall_score(y_test, svm_pred))\n",
    "print(\"F1-Score: \", f1_score(y_test, svm_pred))\n",
    "\n",
    "print(\"Naive Bayes: \")\n",
    "print(confusion_matrix(y_test, nb_pred))\n",
    "print(\"Accuracy: \", accuracy_score(y_test, nb_pred))\n",
    "print(\"Precision: \", precision_score(y_test, nb_pred))\n",
    "print(\"Recall: \", recall_score(y_test, nb_pred))\n",
    "print(\"F1-Score: \", f1_score(y_test, nb_pred))\n",
    "\n",
    "print(\"Random Forest: \")\n",
    "print(confusion_matrix(y_test, rf_pred))\n",
    "print(\"Accuracy: \", accuracy_score(y_test, rf_pred))\n",
    "print(\"Precision: \", precision_score(y_test, rf_pred))\n",
    "print(\"Recall: \", recall_score(y_test, rf_pred))\n",
    "print(\"F1-Score: \", f1_score(y_test, rf_pred))"
   ]
  },
  {
   "cell_type": "code",
   "execution_count": null,
   "id": "4210423d-f0e9-462d-873e-5aac8f0471e4",
   "metadata": {},
   "outputs": [],
   "source": []
  }
 ],
 "metadata": {
  "kernelspec": {
   "display_name": "Python 3 (ipykernel)",
   "language": "python",
   "name": "python3"
  },
  "language_info": {
   "codemirror_mode": {
    "name": "ipython",
    "version": 3
   },
   "file_extension": ".py",
   "mimetype": "text/x-python",
   "name": "python",
   "nbconvert_exporter": "python",
   "pygments_lexer": "ipython3",
   "version": "3.10.10"
  }
 },
 "nbformat": 4,
 "nbformat_minor": 5
}
