{
 "cells": [
  {
   "cell_type": "code",
   "execution_count": 1,
   "id": "5848937b-5b58-4667-9f30-77e83c32ec41",
   "metadata": {
    "tags": []
   },
   "outputs": [],
   "source": [
    "# Julia Chancey\n",
    "# Multimodal ML - hw 1 question 2\n",
    "# Regression"
   ]
  },
  {
   "cell_type": "code",
   "execution_count": 3,
   "id": "dd456319-a2b2-4ee7-a97b-46232cdceb3d",
   "metadata": {
    "tags": []
   },
   "outputs": [],
   "source": [
    "# imports ordered alphabetically\n",
    "import pandas as pd\n",
    "import statsmodels.api as sm"
   ]
  },
  {
   "cell_type": "code",
   "execution_count": 4,
   "id": "20835ec0-4865-49aa-8b2a-d9ac72f596ef",
   "metadata": {
    "tags": []
   },
   "outputs": [],
   "source": [
    "# loading data from data csv file into a pandas DataFrame\n",
    "data = pd.read_csv('data.csv')"
   ]
  },
  {
   "cell_type": "code",
   "execution_count": 5,
   "id": "ccaaebc6-8718-43a8-8aec-d346373fc3de",
   "metadata": {
    "tags": []
   },
   "outputs": [],
   "source": [
    "# defining independent and dependent variables\n",
    "X = data[['ASR_Error', 'Intent_Error', 'Duration', 'Gender', 'Purchase']]\n",
    "y = data['SUS']"
   ]
  },
  {
   "cell_type": "code",
   "execution_count": 6,
   "id": "193646cb-639a-4b5b-aa6b-29d582751876",
   "metadata": {
    "tags": []
   },
   "outputs": [],
   "source": [
    "# adding intercept term to independent variables\n",
    "X = sm.add_constant(X)"
   ]
  },
  {
   "cell_type": "code",
   "execution_count": 7,
   "id": "318ba28a-008a-4216-8b46-e291d6163479",
   "metadata": {
    "tags": []
   },
   "outputs": [],
   "source": [
    "# fitting OLS regression model\n",
    "model = sm.OLS(y, X).fit()"
   ]
  },
  {
   "cell_type": "code",
   "execution_count": 8,
   "id": "aae7e808-8201-47ba-b8db-172887b776a7",
   "metadata": {
    "tags": []
   },
   "outputs": [
    {
     "name": "stdout",
     "output_type": "stream",
     "text": [
      "                            OLS Regression Results                            \n",
      "==============================================================================\n",
      "Dep. Variable:                    SUS   R-squared:                       0.593\n",
      "Model:                            OLS   Adj. R-squared:                  0.571\n",
      "Method:                 Least Squares   F-statistic:                     27.39\n",
      "Date:                Tue, 14 Feb 2023   Prob (F-statistic):           5.25e-17\n",
      "Time:                        21:50:14   Log-Likelihood:                -362.39\n",
      "No. Observations:                 100   AIC:                             736.8\n",
      "Df Residuals:                      94   BIC:                             752.4\n",
      "Df Model:                           5                                         \n",
      "Covariance Type:            nonrobust                                         \n",
      "================================================================================\n",
      "                   coef    std err          t      P>|t|      [0.025      0.975]\n",
      "--------------------------------------------------------------------------------\n",
      "const           93.0282      5.541     16.788      0.000      82.026     104.031\n",
      "ASR_Error       -1.4254      0.401     -3.553      0.001      -2.222      -0.629\n",
      "Intent_Error    -2.0092      0.439     -4.572      0.000      -2.882      -1.137\n",
      "Duration        -0.0002      0.010     -0.025      0.980      -0.020       0.019\n",
      "Gender           0.8367      1.971      0.425      0.672      -3.076       4.749\n",
      "Purchase         1.3412      3.676      0.365      0.716      -5.958       8.641\n",
      "==============================================================================\n",
      "Omnibus:                        6.969   Durbin-Watson:                   2.023\n",
      "Prob(Omnibus):                  0.031   Jarque-Bera (JB):                8.115\n",
      "Skew:                          -0.378   Prob(JB):                       0.0173\n",
      "Kurtosis:                       4.173   Cond. No.                     1.27e+03\n",
      "==============================================================================\n",
      "\n",
      "Notes:\n",
      "[1] Standard Errors assume that the covariance matrix of the errors is correctly specified.\n",
      "[2] The condition number is large, 1.27e+03. This might indicate that there are\n",
      "strong multicollinearity or other numerical problems.\n"
     ]
    }
   ],
   "source": [
    "# printing statistical results of the model\n",
    "print(model.summary())"
   ]
  },
  {
   "cell_type": "code",
   "execution_count": null,
   "id": "0679946b-4180-42db-a358-e4ab8fae9e03",
   "metadata": {},
   "outputs": [],
   "source": []
  }
 ],
 "metadata": {
  "kernelspec": {
   "display_name": "Python 3 (ipykernel)",
   "language": "python",
   "name": "python3"
  },
  "language_info": {
   "codemirror_mode": {
    "name": "ipython",
    "version": 3
   },
   "file_extension": ".py",
   "mimetype": "text/x-python",
   "name": "python",
   "nbconvert_exporter": "python",
   "pygments_lexer": "ipython3",
   "version": "3.10.10"
  }
 },
 "nbformat": 4,
 "nbformat_minor": 5
}
