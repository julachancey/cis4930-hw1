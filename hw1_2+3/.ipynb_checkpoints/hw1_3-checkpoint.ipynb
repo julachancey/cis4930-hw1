{
 "cells": [
  {
   "cell_type": "code",
   "execution_count": 1,
   "id": "f4883096-5ff3-4bef-b7c7-ed5b8b0c8810",
   "metadata": {
    "tags": []
   },
   "outputs": [],
   "source": [
    "# Julia Chancey\n",
    "# Multimodal ML - hw 1 question 3\n",
    "# Classification"
   ]
  },
  {
   "cell_type": "code",
   "execution_count": 5,
   "id": "03d50a0a-6570-4855-9cf1-e780f90f1e98",
   "metadata": {
    "tags": []
   },
   "outputs": [],
   "source": [
    "# imports ordered alphabetically\n",
    "import pandas as pd\n",
    "from sklearn.model_selection import train_test_split\n",
    "from sklearn.linear_model import LogisticRegression\n",
    "from sklearn.svm import SVC\n",
    "from sklearn.naive_bayes import GaussianNB\n",
    "from sklearn.ensemble import RandomForestClassifier\n",
    "from sklearn.metrics import accuracy_score, precision_score, recall_score, f1_score, confusion_matrix"
   ]
  },
  {
   "cell_type": "code",
   "execution_count": 8,
   "id": "979739a3-f414-44a2-9bdf-e9ff2aea2993",
   "metadata": {
    "tags": []
   },
   "outputs": [],
   "source": [
    "# Loading the dataset\n",
    "data = pd.read_csv('data.csv')"
   ]
  },
  {
   "cell_type": "code",
   "execution_count": 7,
   "id": "1f866d8f-d06e-4567-a960-d2c3bc2a4e77",
   "metadata": {
    "tags": []
   },
   "outputs": [
    {
     "name": "stdout",
     "output_type": "stream",
     "text": [
      "Logistic Regression: \n",
      "[[10  0]\n",
      " [ 1  9]]\n",
      "Accuracy:  0.95\n",
      "Precision:  1.0\n",
      "Recall:  0.9\n",
      "F1-Score:  0.9473684210526316\n",
      "SVM: \n",
      "[[10  0]\n",
      " [ 1  9]]\n",
      "Accuracy:  0.95\n",
      "Precision:  1.0\n",
      "Recall:  0.9\n",
      "F1-Score:  0.9473684210526316\n",
      "Naive Bayes: \n",
      "[[10  0]\n",
      " [ 1  9]]\n",
      "Accuracy:  0.95\n",
      "Precision:  1.0\n",
      "Recall:  0.9\n",
      "F1-Score:  0.9473684210526316\n",
      "Random Forest: \n",
      "[[10  0]\n",
      " [ 1  9]]\n",
      "Accuracy:  0.95\n",
      "Precision:  1.0\n",
      "Recall:  0.9\n",
      "F1-Score:  0.9473684210526316\n"
     ]
    }
   ],
   "source": [
    "# Preprocessing the data\n",
    "X = data[['ASR_Error', 'Intent_Error', 'Duration', 'Gender']]\n",
    "y = data['Purchase']\n",
    "\n",
    "# Splitting the data into training and testing sets\n",
    "X_train, X_test, y_train, y_test = train_test_split(X, y, test_size=0.2, random_state=42)\n",
    "\n",
    "# Initializing the classifiers\n",
    "lr = LogisticRegression(random_state=42)\n",
    "svm = SVC(kernel='linear', random_state=42)\n",
    "nb = GaussianNB()\n",
    "rf = RandomForestClassifier(n_estimators=100, random_state=42)\n",
    "\n",
    "# Fitting the classifiers on the training data\n",
    "lr.fit(X_train, y_train)\n",
    "svm.fit(X_train, y_train)\n",
    "nb.fit(X_train, y_train)\n",
    "rf.fit(X_train, y_train)\n",
    "\n",
    "# Making predictions on the testing data\n",
    "lr_pred = lr.predict(X_test)\n",
    "svm_pred = svm.predict(X_test)\n",
    "nb_pred = nb.predict(X_test)\n",
    "rf_pred = rf.predict(X_test)\n",
    "\n",
    "# Evaluating the performance of the classifiers\n",
    "print(\"Logistic Regression: \")\n",
    "print(confusion_matrix(y_test, lr_pred))\n",
    "print(\"Accuracy: \", accuracy_score(y_test, lr_pred))\n",
    "print(\"Precision: \", precision_score(y_test, lr_pred))\n",
    "print(\"Recall: \", recall_score(y_test, lr_pred))\n",
    "print(\"F1-Score: \", f1_score(y_test, lr_pred))\n",
    "\n",
    "print(\"SVM: \")\n",
    "print(confusion_matrix(y_test, svm_pred))\n",
    "print(\"Accuracy: \", accuracy_score(y_test, svm_pred))\n",
    "print(\"Precision: \", precision_score(y_test, svm_pred))\n",
    "print(\"Recall: \", recall_score(y_test, svm_pred))\n",
    "print(\"F1-Score: \", f1_score(y_test, svm_pred))\n",
    "\n",
    "print(\"Naive Bayes: \")\n",
    "print(confusion_matrix(y_test, nb_pred))\n",
    "print(\"Accuracy: \", accuracy_score(y_test, nb_pred))\n",
    "print(\"Precision: \", precision_score(y_test, nb_pred))\n",
    "print(\"Recall: \", recall_score(y_test, nb_pred))\n",
    "print(\"F1-Score: \", f1_score(y_test, nb_pred))\n",
    "\n",
    "print(\"Random Forest: \")\n",
    "print(confusion_matrix(y_test, rf_pred))\n",
    "print(\"Accuracy: \", accuracy_score(y_test, rf_pred))\n",
    "print(\"Precision: \", precision_score(y_test, rf_pred))\n",
    "print(\"Recall: \", recall_score(y_test, rf_pred))\n",
    "print(\"F1-Score: \", f1_score(y_test, rf_pred))"
   ]
  },
  {
   "cell_type": "code",
   "execution_count": null,
   "id": "4210423d-f0e9-462d-873e-5aac8f0471e4",
   "metadata": {},
   "outputs": [],
   "source": []
  }
 ],
 "metadata": {
  "kernelspec": {
   "display_name": "Python 3 (ipykernel)",
   "language": "python",
   "name": "python3"
  },
  "language_info": {
   "codemirror_mode": {
    "name": "ipython",
    "version": 3
   },
   "file_extension": ".py",
   "mimetype": "text/x-python",
   "name": "python",
   "nbconvert_exporter": "python",
   "pygments_lexer": "ipython3",
   "version": "3.10.10"
  }
 },
 "nbformat": 4,
 "nbformat_minor": 5
}
